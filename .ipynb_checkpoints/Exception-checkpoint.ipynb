{
 "cells": [
  {
   "cell_type": "markdown",
   "id": "f8265c56-d07c-4846-ba3f-369ecdcc2c84",
   "metadata": {},
   "source": [
    "### SYNTAX ERROR"
   ]
  },
  {
   "cell_type": "code",
   "execution_count": 1,
   "id": "bb32eb37-6b6c-4489-a29b-2b4cec8c56cc",
   "metadata": {},
   "outputs": [
    {
     "ename": "SyntaxError",
     "evalue": "unterminated string literal (detected at line 1) (2149988476.py, line 1)",
     "output_type": "error",
     "traceback": [
      "\u001b[1;36m  Cell \u001b[1;32mIn[1], line 1\u001b[1;36m\u001b[0m\n\u001b[1;33m    print(\"hello)\u001b[0m\n\u001b[1;37m          ^\u001b[0m\n\u001b[1;31mSyntaxError\u001b[0m\u001b[1;31m:\u001b[0m unterminated string literal (detected at line 1)\n"
     ]
    }
   ],
   "source": [
    "print(\"hello)"
   ]
  },
  {
   "cell_type": "markdown",
   "id": "b58f3286-5d9c-43de-990e-d97ddaf60f92",
   "metadata": {},
   "source": [
    "### in the syntax error it just writes there is a error in your syntax or literal which is just string element "
   ]
  },
  {
   "cell_type": "markdown",
   "id": "b6d28319-29a6-4f85-8afe-fd4a72e10a38",
   "metadata": {},
   "source": [
    "### You have to solve on yourself it can not be solve by your another code"
   ]
  },
  {
   "cell_type": "code",
   "execution_count": 2,
   "id": "48398f85-c137-4ce8-98c8-01a39f1cca55",
   "metadata": {},
   "outputs": [
    {
     "name": "stdout",
     "output_type": "stream",
     "text": [
      "hello\n"
     ]
    }
   ],
   "source": [
    "print(\"hello\")"
   ]
  },
  {
   "cell_type": "code",
   "execution_count": null,
   "id": "1a1dabc7-6ec5-4540-bafd-fc423a3449bc",
   "metadata": {},
   "outputs": [],
   "source": []
  },
  {
   "cell_type": "markdown",
   "id": "452988ed-d407-4909-baa2-c28d9d9a0e7f",
   "metadata": {},
   "source": [
    "### VALUE ERROR"
   ]
  },
  {
   "cell_type": "code",
   "execution_count": 5,
   "id": "6423a70d-e1b5-4b88-96f9-cbf741fb64e8",
   "metadata": {},
   "outputs": [
    {
     "name": "stdin",
     "output_type": "stream",
     "text": [
      "Enter value of x?: cat\n"
     ]
    },
    {
     "ename": "ValueError",
     "evalue": "invalid literal for int() with base 10: 'cat'",
     "output_type": "error",
     "traceback": [
      "\u001b[1;31m---------------------------------------------------------------------------\u001b[0m",
      "\u001b[1;31mValueError\u001b[0m                                Traceback (most recent call last)",
      "Cell \u001b[1;32mIn[5], line 1\u001b[0m\n\u001b[1;32m----> 1\u001b[0m x\u001b[38;5;241m=\u001b[39m\u001b[38;5;28mint\u001b[39m(\u001b[38;5;28minput\u001b[39m(\u001b[38;5;124m\"\u001b[39m\u001b[38;5;124mEnter value of x?:\u001b[39m\u001b[38;5;124m\"\u001b[39m))\n\u001b[0;32m      2\u001b[0m \u001b[38;5;28mprint\u001b[39m(\u001b[38;5;124mf\u001b[39m\u001b[38;5;124m\"\u001b[39m\u001b[38;5;124mThe value is \u001b[39m\u001b[38;5;132;01m{\u001b[39;00mx\u001b[38;5;132;01m}\u001b[39;00m\u001b[38;5;124m\"\u001b[39m)\n",
      "\u001b[1;31mValueError\u001b[0m: invalid literal for int() with base 10: 'cat'"
     ]
    }
   ],
   "source": [
    "x=int(input(\"Enter value of x?:\"))\n",
    "print(f\"The value is {x}\")"
   ]
  },
  {
   "cell_type": "markdown",
   "id": "14dfb76b-444d-4d0a-adc5-757baa334d35",
   "metadata": {},
   "source": [
    "### What can go wrong , we cant use string"
   ]
  },
  {
   "cell_type": "markdown",
   "id": "4d7e04d9-cc87-4f6b-8f78-5790e4e8e7cc",
   "metadata": {},
   "source": [
    "### value error:we use invalid string as input in the place of decimal base10 integer"
   ]
  },
  {
   "cell_type": "markdown",
   "id": "5430f9fb-ed84-40d7-b642-7a5055f6e071",
   "metadata": {},
   "source": [
    "### What can we do: We can use do to not to type the wrong format"
   ]
  },
  {
   "cell_type": "markdown",
   "id": "a2b487bc-821a-4261-843c-1407037f6d1f",
   "metadata": {},
   "source": [
    "### We can use try and except"
   ]
  },
  {
   "cell_type": "code",
   "execution_count": 8,
   "id": "3db97188-1f06-4fe4-899b-a7c4d7803f99",
   "metadata": {},
   "outputs": [
    {
     "name": "stdin",
     "output_type": "stream",
     "text": [
      "Enter value of x?: cat\n"
     ]
    },
    {
     "name": "stdout",
     "output_type": "stream",
     "text": [
      "x is not a integer\n"
     ]
    }
   ],
   "source": [
    "try:\n",
    "    x=int(input(\"Enter value of x?:\"))\n",
    "    print(f\"The value is {x}\")\n",
    "except ValueError:\n",
    "    print(\"x is not a integer\")"
   ]
  },
  {
   "cell_type": "code",
   "execution_count": null,
   "id": "23a1aaf1-27d6-4329-b4ef-b1e408d11284",
   "metadata": {},
   "outputs": [],
   "source": []
  },
  {
   "cell_type": "markdown",
   "id": "5a4b0e8a-d802-4afa-b153-f0e2aaeb4ca5",
   "metadata": {},
   "source": [
    "### SO WHAT WE DID IS WE WARNED THE USER TO NOT TYPE WRONG FORMAT WHERE WITHOUT TRY AND EXCEPT WE DON'T KNOW WHAT TO DO AS USER"
   ]
  },
  {
   "cell_type": "markdown",
   "id": "d700a250-0195-4171-b443-51052d6550e2",
   "metadata": {},
   "source": [
    "### WE HAVE TO KNOW THE ERROR PROPERLY"
   ]
  },
  {
   "cell_type": "markdown",
   "id": "a5961e26-c507-4d2c-b6c5-9375eeceeda3",
   "metadata": {},
   "source": [
    "### WE CAN ALSO USE ANY ERROR AS EXCEPT BUT IT CAN HIDE BUG IN THE PROGRAM"
   ]
  },
  {
   "cell_type": "code",
   "execution_count": null,
   "id": "e76c0c44-9069-47b2-9802-dea1650d7748",
   "metadata": {},
   "outputs": [],
   "source": []
  },
  {
   "cell_type": "code",
   "execution_count": null,
   "id": "3d1f4828-95ae-4507-8f99-e43755072518",
   "metadata": {},
   "outputs": [],
   "source": []
  },
  {
   "cell_type": "markdown",
   "id": "cedd917f-e5cb-4ee3-bcb8-0f545a9bedd7",
   "metadata": {},
   "source": [
    "### name error:  NameError in Python occurs when you try to use a variable or function name that hasn't been defined or is not accessible in the current scope. Essentially, Python doesn't recognize the name you're referencing."
   ]
  },
  {
   "cell_type": "code",
   "execution_count": 12,
   "id": "2f75ee81-d69c-4056-a440-3e200cf5c5b9",
   "metadata": {},
   "outputs": [
    {
     "name": "stdin",
     "output_type": "stream",
     "text": [
      "Enter value of x?: czt\n"
     ]
    },
    {
     "name": "stdout",
     "output_type": "stream",
     "text": [
      "y is not a integer\n"
     ]
    },
    {
     "ename": "NameError",
     "evalue": "name 'y' is not defined",
     "output_type": "error",
     "traceback": [
      "\u001b[1;31m---------------------------------------------------------------------------\u001b[0m",
      "\u001b[1;31mNameError\u001b[0m                                 Traceback (most recent call last)",
      "Cell \u001b[1;32mIn[12], line 5\u001b[0m\n\u001b[0;32m      3\u001b[0m \u001b[38;5;28;01mexcept\u001b[39;00m \u001b[38;5;167;01mValueError\u001b[39;00m:\n\u001b[0;32m      4\u001b[0m     \u001b[38;5;28mprint\u001b[39m(\u001b[38;5;124m\"\u001b[39m\u001b[38;5;124my is not a integer\u001b[39m\u001b[38;5;124m\"\u001b[39m)\n\u001b[1;32m----> 5\u001b[0m \u001b[38;5;28mprint\u001b[39m(\u001b[38;5;124mf\u001b[39m\u001b[38;5;124m\"\u001b[39m\u001b[38;5;124mThe value is \u001b[39m\u001b[38;5;132;01m{\u001b[39;00my\u001b[38;5;132;01m}\u001b[39;00m\u001b[38;5;124m\"\u001b[39m)\n",
      "\u001b[1;31mNameError\u001b[0m: name 'y' is not defined"
     ]
    }
   ],
   "source": [
    "try:\n",
    "    y=int(input(\"Enter value of x?:\"))#int is creating probelem\n",
    "except ValueError:\n",
    "    print(\"y is not a integer\")\n",
    "print(f\"The value is {y}\")"
   ]
  },
  {
   "cell_type": "markdown",
   "id": "f1892398-a873-4d56-9e12-9f78475cb9fb",
   "metadata": {},
   "source": [
    "### y not exist on line 5 because y is not assigned as y is inputed cat by user"
   ]
  },
  {
   "cell_type": "markdown",
   "id": "9838d4a4-df87-4cc1-be01-932153da74d4",
   "metadata": {},
   "source": [
    "### so y does not exist thats why y is not defined"
   ]
  },
  {
   "cell_type": "code",
   "execution_count": null,
   "id": "03bf2cef-7ca1-48a0-b032-dc2910dfdca7",
   "metadata": {},
   "outputs": [],
   "source": []
  },
  {
   "cell_type": "code",
   "execution_count": null,
   "id": "885d9b17-e852-4c98-86ac-a5d8a4a97e39",
   "metadata": {},
   "outputs": [],
   "source": []
  },
  {
   "cell_type": "markdown",
   "id": "d1a7cc5c-1f5e-4057-9405-86ae5a7e78d3",
   "metadata": {},
   "source": [
    "### In the code below else is applied when try suceed at assigning value to z"
   ]
  },
  {
   "cell_type": "code",
   "execution_count": 4,
   "id": "7e3c40fe-c759-4f85-9718-3595f53ca742",
   "metadata": {},
   "outputs": [
    {
     "name": "stdin",
     "output_type": "stream",
     "text": [
      "Enter value of z ana\n"
     ]
    },
    {
     "name": "stdout",
     "output_type": "stream",
     "text": [
      "z is not a int\n"
     ]
    }
   ],
   "source": [
    "try:\n",
    "    z=int(input(\"Enter value of z\"))\n",
    "except ValueError:\n",
    "    print(\"z is not a int\")\n",
    "else:\n",
    "    print(f\"{z} is a value of z\")"
   ]
  },
  {
   "cell_type": "code",
   "execution_count": null,
   "id": "a57ba75a-5078-4b27-b0d2-8b5ef1d020a6",
   "metadata": {},
   "outputs": [],
   "source": []
  },
  {
   "cell_type": "code",
   "execution_count": null,
   "id": "9f697594-6ee1-4e1f-a116-46347f86535b",
   "metadata": {},
   "outputs": [],
   "source": []
  },
  {
   "cell_type": "markdown",
   "id": "8f4db1f1-cdc3-44c4-af5e-9579ab2fa237",
   "metadata": {},
   "source": [
    "### WHAT WE CAN DO IS TO ASK USER TO INPUT INT REPEADETLY UNTIL IT GIVE US INT VALUE WITH LOOP"
   ]
  },
  {
   "cell_type": "markdown",
   "id": "7f600fba-2cea-4a58-8caf-b2386c401db3",
   "metadata": {},
   "source": [
    "### Code below will use while to loop until it is broke by break and we use break in else which will execute when try is successful"
   ]
  },
  {
   "cell_type": "markdown",
   "id": "d271951f-2054-4a7e-b91c-265f676f6201",
   "metadata": {},
   "source": [
    "### so it will ask again again because else wont run unless it is a int value"
   ]
  },
  {
   "cell_type": "code",
   "execution_count": 8,
   "id": "4c7f7a32-8f02-465e-a73d-6b9bef2ae836",
   "metadata": {},
   "outputs": [
    {
     "name": "stdin",
     "output_type": "stream",
     "text": [
      "Enter the value of a cat\n"
     ]
    },
    {
     "name": "stdout",
     "output_type": "stream",
     "text": [
      "a is not a int\n"
     ]
    },
    {
     "name": "stdin",
     "output_type": "stream",
     "text": [
      "Enter the value of a cat\n"
     ]
    },
    {
     "name": "stdout",
     "output_type": "stream",
     "text": [
      "a is not a int\n"
     ]
    },
    {
     "name": "stdin",
     "output_type": "stream",
     "text": [
      "Enter the value of a cat\n"
     ]
    },
    {
     "name": "stdout",
     "output_type": "stream",
     "text": [
      "a is not a int\n"
     ]
    },
    {
     "name": "stdin",
     "output_type": "stream",
     "text": [
      "Enter the value of a csfa\n"
     ]
    },
    {
     "name": "stdout",
     "output_type": "stream",
     "text": [
      "a is not a int\n"
     ]
    },
    {
     "name": "stdin",
     "output_type": "stream",
     "text": [
      "Enter the value of a adfs\n"
     ]
    },
    {
     "name": "stdout",
     "output_type": "stream",
     "text": [
      "a is not a int\n"
     ]
    },
    {
     "name": "stdin",
     "output_type": "stream",
     "text": [
      "Enter the value of a adf\n"
     ]
    },
    {
     "name": "stdout",
     "output_type": "stream",
     "text": [
      "a is not a int\n"
     ]
    },
    {
     "name": "stdin",
     "output_type": "stream",
     "text": [
      "Enter the value of a daf\n"
     ]
    },
    {
     "name": "stdout",
     "output_type": "stream",
     "text": [
      "a is not a int\n"
     ]
    },
    {
     "name": "stdin",
     "output_type": "stream",
     "text": [
      "Enter the value of a d\n"
     ]
    },
    {
     "name": "stdout",
     "output_type": "stream",
     "text": [
      "a is not a int\n"
     ]
    },
    {
     "name": "stdin",
     "output_type": "stream",
     "text": [
      "Enter the value of a daf\n"
     ]
    },
    {
     "name": "stdout",
     "output_type": "stream",
     "text": [
      "a is not a int\n"
     ]
    },
    {
     "name": "stdin",
     "output_type": "stream",
     "text": [
      "Enter the value of a adf\n"
     ]
    },
    {
     "name": "stdout",
     "output_type": "stream",
     "text": [
      "a is not a int\n"
     ]
    },
    {
     "name": "stdin",
     "output_type": "stream",
     "text": [
      "Enter the value of a e\n"
     ]
    },
    {
     "name": "stdout",
     "output_type": "stream",
     "text": [
      "a is not a int\n"
     ]
    },
    {
     "name": "stdin",
     "output_type": "stream",
     "text": [
      "Enter the value of a 3\n"
     ]
    },
    {
     "name": "stdout",
     "output_type": "stream",
     "text": [
      "3 is value of a\n"
     ]
    }
   ],
   "source": [
    "while True:\n",
    "    try:\n",
    "        a=int(input(\"Enter the value of a\"))\n",
    "    except ValueError:\n",
    "        print(\"a is not a int\")\n",
    "    else:\n",
    "        break\n",
    "print(f\"{a} is value of a\")\n"
   ]
  },
  {
   "cell_type": "code",
   "execution_count": null,
   "id": "e0ef4b20-e7a1-4e28-8c21-2f9c99cb8689",
   "metadata": {},
   "outputs": [],
   "source": []
  },
  {
   "cell_type": "markdown",
   "id": "39407fb4-8d11-465c-9f4c-17e1c5b063d1",
   "metadata": {},
   "source": [
    "### Here code under is right because when b is tring try wont be sucessful and b cant run so it will go to except and when b is right it will go to break"
   ]
  },
  {
   "cell_type": "code",
   "execution_count": 11,
   "id": "2050331b-2f1b-47fd-8e05-0806ee0fc3b1",
   "metadata": {},
   "outputs": [
    {
     "name": "stdin",
     "output_type": "stream",
     "text": [
      "Enter value of b dd\n"
     ]
    },
    {
     "name": "stdout",
     "output_type": "stream",
     "text": [
      "Write right value of b\n"
     ]
    },
    {
     "name": "stdin",
     "output_type": "stream",
     "text": [
      "Enter value of b 4\n"
     ]
    },
    {
     "name": "stdout",
     "output_type": "stream",
     "text": [
      "4 is value of b\n"
     ]
    }
   ],
   "source": [
    "while True:\n",
    "    try:\n",
    "        b=int(input(\"Enter value of b\"))\n",
    "        break\n",
    "    except ValueError:\n",
    "        print(\"Write right value of b\")\n",
    "print(f\"{b} is value of b\")"
   ]
  },
  {
   "cell_type": "code",
   "execution_count": null,
   "id": "9007870d-3bf8-405d-ae86-cf55e3c1e372",
   "metadata": {},
   "outputs": [],
   "source": []
  },
  {
   "cell_type": "markdown",
   "id": "f21bc89e-97af-48df-a1b6-043b589e9897",
   "metadata": {},
   "source": [
    "### get_int() function does same task with return b because when try code is run succesfully you have to return value of b which can be used further for any calculation as a variable"
   ]
  },
  {
   "cell_type": "code",
   "execution_count": 20,
   "id": "5af3dc9d-e861-432f-8d0f-7e6c118a9d17",
   "metadata": {},
   "outputs": [
    {
     "name": "stdin",
     "output_type": "stream",
     "text": [
      "Enter value of b dd\n"
     ]
    },
    {
     "name": "stdout",
     "output_type": "stream",
     "text": [
      "Write right value of b\n"
     ]
    },
    {
     "name": "stdin",
     "output_type": "stream",
     "text": [
      "Enter value of b 44\n"
     ]
    },
    {
     "name": "stdout",
     "output_type": "stream",
     "text": [
      "4 is value of b\n"
     ]
    }
   ],
   "source": [
    "def main():\n",
    "    x1=get_int()\n",
    "    print(f\"{x1} is value of b\")\n",
    "def get_int():\n",
    "    while True:\n",
    "        try:\n",
    "            b=int(input(\"Enter value of b\"))\n",
    "            break\n",
    "        except ValueError:\n",
    "            print(\"Write right value of b\")\n",
    "    return b\n",
    "main()"
   ]
  },
  {
   "cell_type": "code",
   "execution_count": null,
   "id": "88b31954-4bbd-4415-937f-34d95fca2744",
   "metadata": {},
   "outputs": [],
   "source": []
  },
  {
   "cell_type": "markdown",
   "id": "66bf7559-1e95-4501-9bef-3dd5354b1321",
   "metadata": {},
   "source": [
    "### return also break a loop and gives the value to the variable "
   ]
  },
  {
   "cell_type": "code",
   "execution_count": 23,
   "id": "7db24287-08da-468b-bdd6-16f894efb40f",
   "metadata": {},
   "outputs": [
    {
     "name": "stdin",
     "output_type": "stream",
     "text": [
      "Enter value of b ee\n"
     ]
    },
    {
     "name": "stdout",
     "output_type": "stream",
     "text": [
      "Write right value of b\n"
     ]
    },
    {
     "name": "stdin",
     "output_type": "stream",
     "text": [
      "Enter value of b w3\n"
     ]
    },
    {
     "name": "stdout",
     "output_type": "stream",
     "text": [
      "Write right value of b\n"
     ]
    },
    {
     "name": "stdin",
     "output_type": "stream",
     "text": [
      "Enter value of b 44\n"
     ]
    },
    {
     "name": "stdout",
     "output_type": "stream",
     "text": [
      "4 is value of b\n"
     ]
    }
   ],
   "source": [
    "def main():\n",
    "    x1=get_int()\n",
    "    print(f\"{x1} is value of b\")\n",
    "def get_int():\n",
    "    while True:\n",
    "        try:\n",
    "            b=int(input(\"Enter value of b\"))\n",
    "            return b#we use return instead of break to give value and break also\n",
    "        except ValueError:\n",
    "            print(\"Write right value of b\")\n",
    "main()"
   ]
  },
  {
   "cell_type": "markdown",
   "id": "b217fb35-fd5a-47be-82b9-35f4e63bfe08",
   "metadata": {},
   "source": [
    "### Under the code we use return in input if it is successfully assigned"
   ]
  },
  {
   "cell_type": "code",
   "execution_count": 24,
   "id": "5a6f13b8-5598-40fb-9c36-b9ec527f1039",
   "metadata": {},
   "outputs": [
    {
     "name": "stdin",
     "output_type": "stream",
     "text": [
      "Enter value of b ff\n"
     ]
    },
    {
     "name": "stdout",
     "output_type": "stream",
     "text": [
      "Write right value of b\n"
     ]
    },
    {
     "name": "stdin",
     "output_type": "stream",
     "text": [
      "Enter value of b r\n"
     ]
    },
    {
     "name": "stdout",
     "output_type": "stream",
     "text": [
      "Write right value of b\n"
     ]
    },
    {
     "name": "stdin",
     "output_type": "stream",
     "text": [
      "Enter value of b 4\n"
     ]
    },
    {
     "name": "stdout",
     "output_type": "stream",
     "text": [
      "4 is value of b\n"
     ]
    }
   ],
   "source": [
    "def main():\n",
    "    x1=get_int()\n",
    "    print(f\"{x1} is value of b\")\n",
    "def get_int():\n",
    "    while True:\n",
    "        try:\n",
    "            return int(input(\"Enter value of b\"))\n",
    "            #we use return instead of break to give value and break also\n",
    "        except ValueError:\n",
    "            print(\"Write right value of b\")\n",
    "main()"
   ]
  },
  {
   "cell_type": "code",
   "execution_count": null,
   "id": "131e3fec-b1cd-483f-879f-4d719a4a06c3",
   "metadata": {},
   "outputs": [],
   "source": []
  },
  {
   "cell_type": "markdown",
   "id": "07a558f2-4582-4582-9dce-b919d38610a1",
   "metadata": {},
   "source": [
    "### PASS"
   ]
  },
  {
   "cell_type": "markdown",
   "id": "b88d7869-d966-41c5-863b-0133697c28b5",
   "metadata": {},
   "source": [
    "### if you want to ignore any thing or value we can use pass at exception"
   ]
  },
  {
   "cell_type": "code",
   "execution_count": 30,
   "id": "84449d9c-6603-4cc4-931b-97d3e44906bb",
   "metadata": {},
   "outputs": [
    {
     "name": "stdin",
     "output_type": "stream",
     "text": [
      "Enter value of b 4444\n"
     ]
    },
    {
     "name": "stdout",
     "output_type": "stream",
     "text": [
      "4444 is value of b\n"
     ]
    }
   ],
   "source": [
    "def main():\n",
    "    x1=get_int()\n",
    "    print(f\"{x1} is value of b\")\n",
    "def get_int():\n",
    "    while True:\n",
    "        try:\n",
    "            return int(input(\"Enter value of b\"))\n",
    "            \n",
    "        except ValueError:\n",
    "            pass#if get value error just ignore and move ahead\n",
    "main()"
   ]
  },
  {
   "cell_type": "code",
   "execution_count": null,
   "id": "56353a52-002a-45a9-88a6-cf63f66f95c0",
   "metadata": {},
   "outputs": [],
   "source": []
  },
  {
   "cell_type": "code",
   "execution_count": null,
   "id": "efc322b3-6060-4a24-b243-4a8fc06e85db",
   "metadata": {},
   "outputs": [],
   "source": []
  },
  {
   "cell_type": "code",
   "execution_count": null,
   "id": "fa084735-7d2f-4512-ad2c-20061f2094c4",
   "metadata": {},
   "outputs": [],
   "source": []
  },
  {
   "cell_type": "code",
   "execution_count": 1,
   "id": "3b71980b-1e86-49bd-8645-1a15bb25ac52",
   "metadata": {},
   "outputs": [
    {
     "ename": "SyntaxError",
     "evalue": "invalid syntax (2829044649.py, line 1)",
     "output_type": "error",
     "traceback": [
      "\u001b[1;36m  Cell \u001b[1;32mIn[1], line 1\u001b[1;36m\u001b[0m\n\u001b[1;33m    ef main():\u001b[0m\n\u001b[1;37m       ^\u001b[0m\n\u001b[1;31mSyntaxError\u001b[0m\u001b[1;31m:\u001b[0m invalid syntax\n"
     ]
    }
   ],
   "source": []
  },
  {
   "cell_type": "markdown",
   "id": "8f60629c-9d1a-44f0-8417-508968fb8eba",
   "metadata": {},
   "source": [
    "### fuel assignment by cs50"
   ]
  },
  {
   "cell_type": "code",
   "execution_count": 15,
   "id": "50b0501a-9d3d-40c6-a2c8-544217ccfdd7",
   "metadata": {},
   "outputs": [
    {
     "name": "stdin",
     "output_type": "stream",
     "text": [
      "Fraction : 0/100\n",
      "Fraction : 5/5\n"
     ]
    },
    {
     "name": "stdout",
     "output_type": "stream",
     "text": [
      "F\n"
     ]
    }
   ],
   "source": [
    "def main():\n",
    "    percent=fuel()\n",
    "\n",
    "    percent=int(round(percent,0))\n",
    "    if(percent>=99):\n",
    "        print(\"F\")\n",
    "    elif(percent<=1):\n",
    "        print(\"E\")\n",
    "    else:\n",
    "        print(f\"{percent}%\")\n",
    "    \n",
    "    \n",
    "    \n",
    "    \n",
    "    \n",
    "\n",
    "\n",
    "def fuel():\n",
    "    while True:\n",
    "        try:\n",
    "            t=input(\"Fraction :\").strip()\n",
    "            if(t[0].isnumeric()==True and t[1]=='/' and t[-1].isnumeric()==True):\n",
    "                percent=(int(t[0])/int(t[-1]))*100\n",
    "                break\n",
    "        except (ValueError,IndexError,ZeroDivisionError):\n",
    "            pass\n",
    "\n",
    "    return percent\n",
    "        \n",
    "main()"
   ]
  },
  {
   "cell_type": "code",
   "execution_count": 29,
   "id": "5736b76a-0f3c-4234-b5ac-cb9ad12d4d56",
   "metadata": {},
   "outputs": [
    {
     "data": {
      "text/plain": [
       "'ana da armes'"
      ]
     },
     "execution_count": 29,
     "metadata": {},
     "output_type": "execute_result"
    }
   ],
   "source": []
  },
  {
   "cell_type": "code",
   "execution_count": 37,
   "id": "d76f2b8b-6a60-4b97-b52a-155d3eeadb93",
   "metadata": {},
   "outputs": [
    {
     "name": "stdin",
     "output_type": "stream",
     "text": [
      "Fraction : 4/9\n"
     ]
    },
    {
     "name": "stdout",
     "output_type": "stream",
     "text": [
      "44%\n"
     ]
    }
   ],
   "source": [
    "def main():\n",
    "    percent=fuel()\n",
    "\n",
    "    percent=(int(round(percent,0)))\n",
    "    if(percent>=99):\n",
    "        print(\"F\")\n",
    "    elif(percent<=1):\n",
    "        print(\"E\")\n",
    "    else:\n",
    "        print(f\"{percent}%\")\n",
    "    \n",
    "    \n",
    "    \n",
    "    \n",
    "    \n",
    "\n",
    "\n",
    "def fuel():\n",
    "    while True:\n",
    "        try:\n",
    "            t=input(\"Fraction :\").strip()\n",
    "            t=t.split('/')\n",
    "            if(t[0].isnumeric()==True and t[-1].isnumeric()==True and int(t[0])<=int(t[-1])):\n",
    "                percent=(int(t[0])/int(t[-1]))*100\n",
    "                break\n",
    "        except (ValueError,IndexError,ZeroDivisionError):\n",
    "            pass\n",
    "\n",
    "    return percent\n",
    "        \n",
    "main()"
   ]
  },
  {
   "cell_type": "code",
   "execution_count": 31,
   "id": "52273132-2f00-406a-9c10-4a9ec9222b74",
   "metadata": {},
   "outputs": [
    {
     "name": "stdin",
     "output_type": "stream",
     "text": [
      "Fraction : 6/6\n"
     ]
    }
   ],
   "source": [
    "t=input(\"Fraction :\").strip()\n",
    "t=t.split('/')\n",
    "if(t[0].isnumeric()==True and t[-1].isnumeric()==True and t[1]=='/'):\n",
    "    percent=(int(t[0])/int(t[-1]))*100\n",
    "    print(percent)"
   ]
  },
  {
   "cell_type": "code",
   "execution_count": null,
   "id": "df1c24d5-000a-4041-a7e2-5bb5cdd84aca",
   "metadata": {},
   "outputs": [],
   "source": [
    "\n",
    "\n",
    "def main():\n",
    "    percent=fuel()\n",
    "\n",
    "    percent=(int(round(percent,0)))#making percent to round up and int\n",
    "    if(percent>=99):\n",
    "        print(\"F\")\n",
    "    elif(percent<=1):\n",
    "        print(\"E\")\n",
    "    else:\n",
    "        print(f\"{percent}%\")\n",
    "\n",
    "\n",
    "\n",
    "\n",
    "\n",
    "\n",
    "\n",
    "def fuel():\n",
    "    while True:#using a infinite loop and breaks on break or return\n",
    "        try:#using try\n",
    "            t=input(\"Fraction :\").strip()\n",
    "            t=t.replace(\" \",'')#removing all spaces to be safe \n",
    "            t=t.split('/')#splitting the string from the '/' to give 2 values in list and can use them\n",
    "            if(t[0].isnumeric()==True and t[-1].isnumeric()==True and int(t[0])<=int(t[-1])):#using if to check if both are numeric and numerator should be smaller than deno\n",
    "                percent=(int(t[0])/int(t[-1]))*100#calculating percent before break to be safe from zero division error\n",
    "                break\n",
    "        except (ValueError,IndexError,ZeroDivisionError):#using index error in exception if the index goes out of range\n",
    "            pass\n",
    "\n",
    "    return percent\n",
    "\n",
    "main()\n"
   ]
  }
 ],
 "metadata": {
  "kernelspec": {
   "display_name": "Python 3 (ipykernel)",
   "language": "python",
   "name": "python3"
  },
  "language_info": {
   "codemirror_mode": {
    "name": "ipython",
    "version": 3
   },
   "file_extension": ".py",
   "mimetype": "text/x-python",
   "name": "python",
   "nbconvert_exporter": "python",
   "pygments_lexer": "ipython3",
   "version": "3.11.7"
  }
 },
 "nbformat": 4,
 "nbformat_minor": 5
}
